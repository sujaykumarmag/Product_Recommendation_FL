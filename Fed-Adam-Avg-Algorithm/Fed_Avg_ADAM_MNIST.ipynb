{
  "nbformat": 4,
  "nbformat_minor": 0,
  "metadata": {
    "colab": {
      "provenance": []
    },
    "kernelspec": {
      "name": "python3",
      "display_name": "Python 3"
    },
    "language_info": {
      "name": "python"
    }
  },
  "cells": [
    {
      "cell_type": "code",
      "execution_count": 2,
      "metadata": {
        "id": "OT5Cbtl-k6Tn"
      },
      "outputs": [],
      "source": [
        "import matplotlib.pyplot as plt\n",
        "import pandas as pd\n",
        "import numpy as np\n",
        "import tensorflow as tf\n",
        "from tensorflow.keras.datasets import mnist\n",
        "from tensorflow.keras.utils import to_categorical"
      ]
    },
    {
      "cell_type": "code",
      "source": [
        "NUM_ROUNDS = 10\n",
        "NUM_CLIENTS = 10\n",
        "BATCH_SIZE = 10\n",
        "EPOCHS_PER_ROUND = 5\n",
        "LEARNING_RATE = 0.1\n",
        "BETA_1 = 0.9\n",
        "BETA_2 = 0.999\n",
        "EPSILON = 1e-7"
      ],
      "metadata": {
        "id": "e3b93pic1IJa"
      },
      "execution_count": 3,
      "outputs": []
    },
    {
      "cell_type": "code",
      "source": [
        "# Load the MNIST dataset\n",
        "(x_train, y_train), (x_test, y_test) = mnist.load_data()\n",
        "\n",
        "# Normalize pixel values to the range [0, 1]\n",
        "x_train, x_test = x_train / 255.0, x_test / 255.0\n",
        "\n",
        "# Convert into Categorical (One-Hot Encoding)\n",
        "y_train = to_categorical(y_train, num_classes=10)\n",
        "y_test = to_categorical(y_test, num_classes=10)"
      ],
      "metadata": {
        "colab": {
          "base_uri": "https://localhost:8080/"
        },
        "id": "E6vvMf8tWwwf",
        "outputId": "26a27f29-8fdc-4d9f-f794-54ceb2fb5752"
      },
      "execution_count": 4,
      "outputs": [
        {
          "output_type": "stream",
          "name": "stdout",
          "text": [
            "Downloading data from https://storage.googleapis.com/tensorflow/tf-keras-datasets/mnist.npz\n",
            "11490434/11490434 [==============================] - 0s 0us/step\n"
          ]
        }
      ]
    },
    {
      "cell_type": "code",
      "source": [
        "global_model = tf.keras.Sequential([\n",
        "        tf.keras.layers.Input(shape=(28, 28)),\n",
        "        tf.keras.layers.Flatten(),\n",
        "        tf.keras.layers.Dense(128, activation='relu'),\n",
        "        tf.keras.layers.Dense(10, activation='softmax')\n",
        "    ])"
      ],
      "metadata": {
        "id": "fMxttQT6hClr"
      },
      "execution_count": 5,
      "outputs": []
    },
    {
      "cell_type": "code",
      "source": [
        "global_model.compile(\n",
        "    optimizer=tf.keras.optimizers.SGD(learning_rate=0.1),\n",
        "    loss='categorical_crossentropy',\n",
        "    metrics=['accuracy']\n",
        ")"
      ],
      "metadata": {
        "id": "a2tpPHpjiBgX"
      },
      "execution_count": 6,
      "outputs": []
    },
    {
      "cell_type": "code",
      "source": [
        "x_train_clients = np.array_split(x_train,NUM_CLIENTS)\n",
        "y_train_clients = np.array_split(y_train,NUM_CLIENTS)\n",
        "\n",
        "x_test_clients = np.array_split(x_test,NUM_CLIENTS)\n",
        "y_test_clients = np.array_split(y_test,NUM_CLIENTS)"
      ],
      "metadata": {
        "id": "Hm_EyedlEjq2"
      },
      "execution_count": 7,
      "outputs": []
    },
    {
      "cell_type": "code",
      "source": [
        "client_models = []\n",
        "for i in range(NUM_CLIENTS):\n",
        "    local_model = tf.keras.Sequential([\n",
        "        tf.keras.layers.Flatten(input_shape=(28, 28)),\n",
        "        tf.keras.layers.Dense(128, activation='relu'),\n",
        "        tf.keras.layers.Dense(10, activation='softmax')\n",
        "    ])\n",
        "    local_model.compile(optimizer='adam', loss='categorical_crossentropy',metrics=['accuracy'])\n",
        "    local_model.fit(x_train_clients[i],y_train_clients[i],epochs=EPOCHS_PER_ROUND, batch_size=BATCH_SIZE,verbose=0)\n",
        "    acc = local_model.evaluate(x_test_clients[i],y_test_clients[i])\n",
        "    print(acc)\n",
        "    client_models.append(local_model)"
      ],
      "metadata": {
        "colab": {
          "base_uri": "https://localhost:8080/"
        },
        "id": "G18F5J7EiIPh",
        "outputId": "24555bb1-47ed-45e8-c20c-d1de8b1413f0"
      },
      "execution_count": 8,
      "outputs": [
        {
          "output_type": "stream",
          "name": "stdout",
          "text": [
            "32/32 [==============================] - 0s 1ms/step - loss: 0.2182 - accuracy: 0.9290\n",
            "[0.21819111704826355, 0.9290000200271606]\n",
            "32/32 [==============================] - 0s 1ms/step - loss: 0.3068 - accuracy: 0.9180\n",
            "[0.30677688121795654, 0.9179999828338623]\n",
            "32/32 [==============================] - 0s 1ms/step - loss: 0.2764 - accuracy: 0.9310\n",
            "[0.2763940393924713, 0.9309999942779541]\n",
            "32/32 [==============================] - 0s 1ms/step - loss: 0.2937 - accuracy: 0.9240\n",
            "[0.29369282722473145, 0.9240000247955322]\n",
            "32/32 [==============================] - 0s 2ms/step - loss: 0.2860 - accuracy: 0.9140\n",
            "[0.2860265076160431, 0.9139999747276306]\n",
            "32/32 [==============================] - 0s 990us/step - loss: 0.1687 - accuracy: 0.9530\n",
            "[0.16870750486850739, 0.953000009059906]\n",
            "32/32 [==============================] - 0s 1ms/step - loss: 0.2272 - accuracy: 0.9430\n",
            "[0.22724786400794983, 0.9430000185966492]\n",
            "32/32 [==============================] - 0s 4ms/step - loss: 0.0990 - accuracy: 0.9700\n",
            "[0.09897620975971222, 0.9700000286102295]\n",
            "32/32 [==============================] - 0s 1ms/step - loss: 0.0782 - accuracy: 0.9750\n",
            "[0.07815908640623093, 0.9750000238418579]\n",
            "32/32 [==============================] - 0s 1ms/step - loss: 0.2629 - accuracy: 0.9290\n",
            "[0.26292160153388977, 0.9290000200271606]\n"
          ]
        }
      ]
    },
    {
      "cell_type": "code",
      "source": [
        "acc = global_model.evaluate(x_test,y_test)\n",
        "print(acc)"
      ],
      "metadata": {
        "colab": {
          "base_uri": "https://localhost:8080/"
        },
        "id": "FK8O3zRiF7Cu",
        "outputId": "96d6fd78-f130-4bcc-b109-8770c71346f6"
      },
      "execution_count": 10,
      "outputs": [
        {
          "output_type": "stream",
          "name": "stdout",
          "text": [
            "313/313 [==============================] - 0s 1ms/step - loss: 2.3934 - accuracy: 0.0969\n",
            "[2.3933961391448975, 0.09690000116825104]\n"
          ]
        }
      ]
    },
    {
      "cell_type": "code",
      "source": [
        "# SERVER ADAM OPTIMIZER\n",
        "fedadam = tf.optimizers.Adam(learning_rate=LEARNING_RATE,beta_1=BETA_1,beta_2 = BETA_2,epsilon=EPSILON)"
      ],
      "metadata": {
        "id": "ClWMrucyiXt8"
      },
      "execution_count": 9,
      "outputs": []
    },
    {
      "cell_type": "code",
      "source": [
        "# Performing Federated Averaging\n",
        "weights = global_model.get_weights()\n",
        "for i in range(len(weights)):\n",
        "    for j in range(NUM_CLIENTS):\n",
        "        client_weights = client_models[j].get_weights()\n",
        "        weights[i] += client_weights[i]/NUM_CLIENTS\n",
        "\n",
        "global_model.set_weights(weights)"
      ],
      "metadata": {
        "id": "DbipIt0qFwJ0"
      },
      "execution_count": 11,
      "outputs": []
    },
    {
      "cell_type": "code",
      "source": [
        "acc = global_model.evaluate(x_test,y_test)\n",
        "print(acc)"
      ],
      "metadata": {
        "colab": {
          "base_uri": "https://localhost:8080/"
        },
        "id": "t_t0xoigGo7U",
        "outputId": "a8a55ea8-2e1b-49cb-82f4-0ab3d351d532"
      },
      "execution_count": 12,
      "outputs": [
        {
          "output_type": "stream",
          "name": "stdout",
          "text": [
            "313/313 [==============================] - 0s 2ms/step - loss: 1.9549 - accuracy: 0.2610\n",
            "[1.9548991918563843, 0.26100000739097595]\n"
          ]
        }
      ]
    },
    {
      "cell_type": "code",
      "source": [
        "# Train the Fed AVG model\n",
        "fed_model = global_model\n",
        "fed_model.compile(optimizer=fedadam, loss='categorical_crossentropy',metrics=['accuracy'])\n",
        "fed_model.fit(x_train,y_train,epochs=5,batch_size=20)"
      ],
      "metadata": {
        "colab": {
          "base_uri": "https://localhost:8080/"
        },
        "id": "8LWTG-NoG4Sl",
        "outputId": "d0e70149-6a89-483e-becb-c17d4597f0d7"
      },
      "execution_count": 13,
      "outputs": [
        {
          "output_type": "stream",
          "name": "stdout",
          "text": [
            "Epoch 1/5\n",
            "3000/3000 [==============================] - 7s 2ms/step - loss: 1.4940 - accuracy: 0.5128\n",
            "Epoch 2/5\n",
            "3000/3000 [==============================] - 6s 2ms/step - loss: 1.5567 - accuracy: 0.4692\n",
            "Epoch 3/5\n",
            "3000/3000 [==============================] - 6s 2ms/step - loss: 1.5028 - accuracy: 0.4923\n",
            "Epoch 4/5\n",
            "3000/3000 [==============================] - 5s 2ms/step - loss: 1.4998 - accuracy: 0.4790\n",
            "Epoch 5/5\n",
            "3000/3000 [==============================] - 6s 2ms/step - loss: 1.4656 - accuracy: 0.5017\n"
          ]
        },
        {
          "output_type": "execute_result",
          "data": {
            "text/plain": [
              "<keras.callbacks.History at 0x7dca83154ee0>"
            ]
          },
          "metadata": {},
          "execution_count": 13
        }
      ]
    },
    {
      "cell_type": "code",
      "source": [
        "acc = fed_model.evaluate(x_test,y_test)\n",
        "print(acc)"
      ],
      "metadata": {
        "colab": {
          "base_uri": "https://localhost:8080/"
        },
        "id": "-FycJUPhG8Hq",
        "outputId": "e9c60033-e010-4489-b09f-fcefad23aae6"
      },
      "execution_count": 14,
      "outputs": [
        {
          "output_type": "stream",
          "name": "stdout",
          "text": [
            "313/313 [==============================] - 0s 1ms/step - loss: 1.7490 - accuracy: 0.5414\n",
            "[1.7490007877349854, 0.5414000153541565]\n"
          ]
        }
      ]
    },
    {
      "cell_type": "code",
      "source": [],
      "metadata": {
        "id": "3_RN5j8QHEtt"
      },
      "execution_count": null,
      "outputs": []
    }
  ]
}